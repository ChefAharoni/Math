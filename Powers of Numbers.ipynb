{
 "cells": [
  {
   "cell_type": "markdown",
   "source": [
    "# Learn powers!\n",
    "\n",
    "In this program, the function rolls a random number from 2 to 12, inclusive, and that's the power of the number 2 you should answer.\n",
    "For example, if the function rolls 7 then the formula is $2^{7}$ and the answer is `128`.\n",
    "_Press `Ctrl+Enter` to run the program._"
   ],
   "metadata": {
    "collapsed": false
   }
  },
  {
   "cell_type": "code",
   "execution_count": 13,
   "outputs": [
    {
     "name": "stdout",
     "output_type": "stream",
     "text": [
      "Please enter the result of 3 in the power of 11\n",
      "-----------------------\n",
      "-----------------------\n",
      "-----------------------\n",
      "Hooray! You've successfully entered the right solution, which is 177147.\n",
      "You've made it in 1 tries.\n"
     ]
    }
   ],
   "source": [
    "def power_of_2(num=2):\n",
    "    import random as rnd\n",
    "    import time\n",
    "    power = rnd.randint(2,12) # Draws a random number from 2 to 12, inclusive\n",
    "    solution = num**power # Saves the solution of the problem\n",
    "    print(\"Please enter the result of \" +str(num)+ \" in the power of\",power, flush = True)\n",
    "    time.sleep(0.05)\n",
    "    user_answer = int(input(\"Your answer: \"))\n",
    "    tries = 1 # Counts the numbers of tries the user had before reaching the correct answer.\n",
    "    while type(user_answer) != int:\n",
    "        user_answer = int(input(\"Error. Please enter a solution in the correct format.\"))\n",
    "    while user_answer != solution:\n",
    "        tries += 1\n",
    "        user_answer = int(input(\"Wrong. Please try again: \"))\n",
    "        while type(user_answer) != int:\n",
    "            user_answer = int(input(\"Error. Please enter a solution in the correct format.\"))\n",
    "    if user_answer == solution:\n",
    "        for i in range (3):\n",
    "            print(\"-----------------------\")\n",
    "        print(\"Hooray! You've successfully entered the right solution, which is \"+str(solution)+\".\"+ \"\\nYou've made \"\n",
    "              \"it in \" +str(\n",
    "            tries)+\" tries.\")\n",
    "\n",
    "power_of_2()"
   ],
   "metadata": {
    "collapsed": false
   }
  }
 ],
 "metadata": {
  "kernelspec": {
   "display_name": "Python 3",
   "language": "python",
   "name": "python3"
  },
  "language_info": {
   "codemirror_mode": {
    "name": "ipython",
    "version": 2
   },
   "file_extension": ".py",
   "mimetype": "text/x-python",
   "name": "python",
   "nbconvert_exporter": "python",
   "pygments_lexer": "ipython2",
   "version": "2.7.6"
  }
 },
 "nbformat": 4,
 "nbformat_minor": 0
}
