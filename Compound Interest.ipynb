{
 "cells": [
  {
   "cell_type": "markdown",
   "source": [
    "# Compound Interest Calculator\n",
    "\n",
    "$$ A=p\\left( 1+\\dfrac{r}{n}\\right) ^{nt} $$\n",
    "\n",
    "\n"
   ],
   "metadata": {
    "collapsed": false
   }
  },
  {
   "cell_type": "code",
   "execution_count": null,
   "outputs": [],
   "source": [
    "def compound_verb (n ='Annually'):\n",
    "    n = n.lower()\n",
    "    n = n.title()\n",
    "    match n:\n",
    "        case 'Annually':\n",
    "            return 1\n",
    "        case 'Semiannually':\n",
    "            return 2\n",
    "        case 'Quarterly':\n",
    "            return 4\n",
    "        case 'Monthly':\n",
    "            return 12\n",
    "        case 'Weekly':\n",
    "            return 52\n",
    "        case default:\n",
    "            return 0\n",
    "\n",
    "def compound_num():\n",
    "    n = input(\"Please choose the compound schedule through the numbers:\\n----------------------\\n1. Annually \\n2. Semiannually\\n3. Quarterly\\n4. Monthly\\n5. Weekly\\n \\n>> \")\n",
    "    while type(n) != int:\n",
    "        n = input(\"Error, please enter a number from 1 to 5, no special characters.\\n\\nPlease choose the compound schedule through the numbers:\\n----------------------\\n1. Annually \\n2. Semiannually\\n3. Quarterly\\n4. Monthly\\n5. Weekly\\n \\n>> \")\n",
    "    n = int(n)\n",
    "    match n:\n",
    "        case 1:  # Annually\n",
    "            return 1\n",
    "        case 2:  # Semiannually\n",
    "            return 2\n",
    "        case 3:  # Quarterly\n",
    "            return 4\n",
    "        case 4:  # Monthly\n",
    "            return 12\n",
    "        case 5:  # Weekly\n",
    "            return 52\n",
    "        case default:\n",
    "            return 0\n",
    "\n",
    "\n",
    "def calc(p, r, n, t):\n",
    "    if n == 0:\n",
    "        return None\n",
    "    r /= 100  # Convert r from real number to percentage (6.5% to 0.065).\n",
    "    a = p * (1 + (r/n))**(n*t)\n",
    "    return a\n",
    "\n",
    "\n",
    "def main():\n",
    "    principle = int(input(\"Enter the amount invested: \"))  # p\n",
    "    rate = float(input(\"Enter the interest rate: \"))  # r\n",
    "    compounded = compound_num()  # n\n",
    "    time = int(input(\"Enter the set amount of time: \"))  # t\n",
    "\n",
    "    amount = calc(p=principle, r=rate, n=compounded, t=time)  # a\n",
    "\n",
    "    if amount is None:\n",
    "        print('Error in calculation. Please enter the numbers correctly.')\n",
    "\n",
    "    print('The total amount at the end of the period is ' + str(amount) + '$.')\n",
    "\n",
    "def test():\n",
    "    p = 100000\n",
    "    r = 6.5\n",
    "    n = 'SEMIANNUALLY'\n",
    "    n2 = 'hourly'\n",
    "    t = 4\n",
    "    t2 = 10\n",
    "\n",
    "\n",
    "    print ('The total amount at the end of the period is ' + str(calc(p=p, r=r, n=compound_num(), t=t)) + '$.')\n",
    "    print ('The total amount at the end of the period is ' + str(calc(p=p, r=r, n=compound_num(), t=t2)) + '$.')\n",
    "    print ('The total amount at the end of the period is ' + str(calc(p=p, r=r, n=compound_num(), t=t2)) + '$.')\n",
    "\n",
    "if __name__ == '__main__':\n",
    "    main()\n"
   ],
   "metadata": {
    "collapsed": false,
    "pycharm": {
     "is_executing": true
    }
   }
  },
  {
   "cell_type": "code",
   "execution_count": null,
   "outputs": [],
   "source": [
    "# For python versions < 3.10\n",
    "# if n == 'Annually':\n",
    "#     return 1\n",
    "# elif n == 'Semiannually':\n",
    "#     return 2\n",
    "# elif n ==  'Quarterly':\n",
    "#     return 4\n",
    "# elif n ==  'Monthly':\n",
    "#     return 12\n",
    "# elif n ==  'Weekly':\n",
    "#     return 52\n",
    "# else:\n",
    "#     return 'Error, please enter a valid compounding schedule.'"
   ],
   "metadata": {
    "collapsed": false
   }
  }
 ],
 "metadata": {
  "kernelspec": {
   "display_name": "Python 3",
   "language": "python",
   "name": "python3"
  },
  "language_info": {
   "codemirror_mode": {
    "name": "ipython",
    "version": 2
   },
   "file_extension": ".py",
   "mimetype": "text/x-python",
   "name": "python",
   "nbconvert_exporter": "python",
   "pygments_lexer": "ipython2",
   "version": "2.7.6"
  }
 },
 "nbformat": 4,
 "nbformat_minor": 0
}
